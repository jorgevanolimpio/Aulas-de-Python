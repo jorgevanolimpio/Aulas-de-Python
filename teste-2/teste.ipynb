{
 "cells": [
  {
   "cell_type": "code",
   "execution_count": 1,
   "id": "aac17678",
   "metadata": {},
   "outputs": [
    {
     "name": "stdout",
     "output_type": "stream",
     "text": [
      "olá mundo\n"
     ]
    }
   ],
   "source": [
    "print(\"olá mundo\")"
   ]
  },
  {
   "cell_type": "code",
   "execution_count": 2,
   "id": "0b079fff",
   "metadata": {},
   "outputs": [
    {
     "name": "stdout",
     "output_type": "stream",
     "text": [
      "estou aprendendo a usar o git e github\n"
     ]
    }
   ],
   "source": [
    "print(\"estou aprendendo a usar o git e github\")"
   ]
  },
  {
   "cell_type": "code",
   "execution_count": 1,
   "id": "f1e10e6d",
   "metadata": {},
   "outputs": [
    {
     "name": "stdout",
     "output_type": "stream",
     "text": [
      "praticando envio de arquivos para o github\n"
     ]
    }
   ],
   "source": [
    "print('praticando envio de arquivos para o github')"
   ]
  },
  {
   "cell_type": "code",
   "execution_count": 2,
   "id": "2bec08ed",
   "metadata": {},
   "outputs": [
    {
     "name": "stdout",
     "output_type": "stream",
     "text": [
      "mais um teste de envio\n"
     ]
    }
   ],
   "source": [
    "print('mais um teste de envio')"
   ]
  }
 ],
 "metadata": {
  "kernelspec": {
   "display_name": "Python 3",
   "language": "python",
   "name": "python3"
  },
  "language_info": {
   "codemirror_mode": {
    "name": "ipython",
    "version": 3
   },
   "file_extension": ".py",
   "mimetype": "text/x-python",
   "name": "python",
   "nbconvert_exporter": "python",
   "pygments_lexer": "ipython3",
   "version": "3.13.1"
  }
 },
 "nbformat": 4,
 "nbformat_minor": 5
}
